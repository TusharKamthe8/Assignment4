{
 "cells": [
  {
   "cell_type": "code",
   "execution_count": 1,
   "id": "e19990d0-db89-4b05-917a-f34e4f9d9b7b",
   "metadata": {},
   "outputs": [],
   "source": [
    "# Question No-1"
   ]
  },
  {
   "cell_type": "code",
   "execution_count": 45,
   "id": "199f0b33-d05c-4a06-9bba-61c03e576b2e",
   "metadata": {},
   "outputs": [
    {
     "name": "stdout",
     "output_type": "stream",
     "text": [
      "[1, 3, 5, 7, 9, 11, 13, 15, 17, 19, 21, 23, 25]\n"
     ]
    }
   ],
   "source": [
    "\"\"\" Def keyword is used in python to create a function \"\"\"\n",
    "\n",
    "def odd(x):\n",
    "    return x%2==1\n",
    "I  = range(1,26)\n",
    "a = filter(odd,I)\n",
    "print(list(a))"
   ]
  },
  {
   "cell_type": "code",
   "execution_count": 10,
   "id": "4df13dc7-f5e3-40c3-8b99-90b9b5fc2b23",
   "metadata": {},
   "outputs": [],
   "source": [
    "# Question No-2"
   ]
  },
  {
   "cell_type": "code",
   "execution_count": 64,
   "id": "0bd3762a-18ef-4e27-b9eb-ee15a19aebe3",
   "metadata": {},
   "outputs": [
    {
     "name": "stdout",
     "output_type": "stream",
     "text": [
      "2 4 6 10 6 4 8 \n",
      "KEY1 4\n",
      "KEY2 16\n",
      "KEY3 676\n"
     ]
    }
   ],
   "source": [
    "\"\"\" Using *args argument we can pass any number of non-key worded agruments through function. \"\"\"\n",
    "\"\"\" Using **kwargs argument we can pass any number of keyworded arguments through function. \"\"\"\n",
    "\n",
    "# Using *args\n",
    "def fargs(*args):\n",
    "    for i in args:\n",
    "        print(i*2, end=\" \")\n",
    "fargs(1,2,3,5,3,2,4)\n",
    "print()\n",
    "\n",
    "# Using **kwargs\n",
    "def fkwargs(**kwargs):\n",
    "    for i,j in kwargs.items():\n",
    "        print(i.upper(),j**2)\n",
    "fkwargs(key1=2,key2=4,key3=26)"
   ]
  },
  {
   "cell_type": "code",
   "execution_count": 66,
   "id": "239ec8f3-bcc6-4f47-abc2-c6fe8139c823",
   "metadata": {},
   "outputs": [],
   "source": [
    "# Question No-3"
   ]
  },
  {
   "cell_type": "code",
   "execution_count": 73,
   "id": "84cdab4f-2d70-4a12-bcfc-4c69d3b7347c",
   "metadata": {},
   "outputs": [
    {
     "name": "stdout",
     "output_type": "stream",
     "text": [
      "2\n",
      "4\n",
      "6\n",
      "8\n",
      "10\n"
     ]
    }
   ],
   "source": [
    "\"\"\" Iterator is a object in python which is used to iterate over iterables. It returns one value at a time \"\"\"\n",
    "\"\"\" Iterator is created by using iter() function which takes the value one by one we can get them by using next() function. \"\"\"\n",
    "l = [2,4,6,8,10,12,14,16,18,20]\n",
    "a = iter(l)\n",
    "print(next(a))\n",
    "print(next(a))\n",
    "print(next(a))\n",
    "print(next(a))\n",
    "print(next(a))\n"
   ]
  },
  {
   "cell_type": "code",
   "execution_count": 74,
   "id": "30e6e5c3-18e9-4549-b3a0-9a5d0fee7b6f",
   "metadata": {},
   "outputs": [],
   "source": [
    "# Question No-4"
   ]
  },
  {
   "cell_type": "code",
   "execution_count": 75,
   "id": "7d1d7a07-3f5d-4de8-ab56-f62c520ff6a9",
   "metadata": {},
   "outputs": [
    {
     "name": "stdout",
     "output_type": "stream",
     "text": [
      "2\n",
      "4\n",
      "6\n",
      "8\n",
      "10\n"
     ]
    }
   ],
   "source": [
    "\"\"\" Generator is a function in python which is used to optimise the memory utilization as it generate and give data one by one rather than doing all at once. \"\"\"\n",
    "\"\"\" yield keyword is used to store and get the values one by one \"\"\"\n",
    "l = [2,4,6,8,10,12,14,16,18,20]\n",
    "def iterator(n):\n",
    "    n = n[0:5]\n",
    "    for i in n:\n",
    "        yield i\n",
    "for i in iterator(l):\n",
    "    print(i)"
   ]
  },
  {
   "cell_type": "code",
   "execution_count": 76,
   "id": "efdd44fb-7e04-4eb5-ba97-4ecb8836fdb1",
   "metadata": {},
   "outputs": [],
   "source": [
    "# Question No-5"
   ]
  },
  {
   "cell_type": "code",
   "execution_count": 96,
   "id": "3de90236-d799-4ab0-9081-382a8ab4f51f",
   "metadata": {},
   "outputs": [
    {
     "name": "stdout",
     "output_type": "stream",
     "text": [
      "3 5 7 9 11 13 15 17 19 21 23 25 27 29 31 33 35 37 39 41 "
     ]
    }
   ],
   "source": [
    "def itera():\n",
    "    for i in range(0,1001):\n",
    "        for j in range(2,i):\n",
    "            if i%j==0:\n",
    "                break\n",
    "            else:\n",
    "                yield i\n",
    "                break\n",
    "n = itera()\n",
    "for i in range(0,20):\n",
    "    print(next(n),end=\" \")"
   ]
  },
  {
   "cell_type": "code",
   "execution_count": 98,
   "id": "a4a0f813-fba8-4aec-9fd8-fef3472ea153",
   "metadata": {},
   "outputs": [],
   "source": [
    "# Question No-6"
   ]
  },
  {
   "cell_type": "code",
   "execution_count": 116,
   "id": "3c19168c-756a-43b9-9583-2941fd719857",
   "metadata": {},
   "outputs": [
    {
     "name": "stdout",
     "output_type": "stream",
     "text": [
      "0 1 1 2 3 5 8 13 21 34 55 89 144 233 377 610 987 1597 2584 4181 "
     ]
    }
   ],
   "source": [
    "def fibbo():\n",
    "    a = 0\n",
    "    b = 1\n",
    "    while True:\n",
    "        yield a\n",
    "        a,b = b, a + b\n",
    "x = fibbo()\n",
    "for i in range(0,20):\n",
    "    print(next(x), end=\" \")"
   ]
  },
  {
   "cell_type": "code",
   "execution_count": 117,
   "id": "a1add692-2165-47d1-aa89-e360e33f4ebb",
   "metadata": {},
   "outputs": [],
   "source": [
    "# Question No-7"
   ]
  },
  {
   "cell_type": "code",
   "execution_count": 131,
   "id": "2cf4a925-4846-415a-82b4-0f9e5b501fac",
   "metadata": {},
   "outputs": [
    {
     "data": {
      "text/plain": [
       "['p', 'w', 's', 'k', 'i', 'l', 'l', 's']"
      ]
     },
     "execution_count": 131,
     "metadata": {},
     "output_type": "execute_result"
    }
   ],
   "source": [
    "l = \"pwskills\"\n",
    "[i for i in l]"
   ]
  },
  {
   "cell_type": "code",
   "execution_count": 132,
   "id": "7df43fdf-d87e-4753-bb94-c0e8867a6282",
   "metadata": {},
   "outputs": [],
   "source": [
    "# Question No-8"
   ]
  },
  {
   "cell_type": "code",
   "execution_count": 7,
   "id": "7ee4e19a-d096-4c4b-a6c8-8f85ffdff40e",
   "metadata": {},
   "outputs": [
    {
     "name": "stdin",
     "output_type": "stream",
     "text": [
      "Enter a number: 101\n"
     ]
    },
    {
     "name": "stdout",
     "output_type": "stream",
     "text": [
      "Given number is a pallindrome\n"
     ]
    }
   ],
   "source": [
    "n = int(input(\"Enter a number:\"))\n",
    "b = 0\n",
    "a = n\n",
    "while n != 0:\n",
    "    r = n % 10\n",
    "    b = b * 10 + r\n",
    "    n = int(n/10)\n",
    "if(a==b):\n",
    "    print(\"Given number is a pallindrome\")\n",
    "elif(a!=b):\n",
    "    print(\"Given number is not a pallindrome\")"
   ]
  },
  {
   "cell_type": "code",
   "execution_count": 8,
   "id": "60a9c3e6-aa92-4dfc-a1cd-ed9ea06054d6",
   "metadata": {},
   "outputs": [],
   "source": [
    "# Question No-9"
   ]
  },
  {
   "cell_type": "code",
   "execution_count": 15,
   "id": "1761e011-bd65-4332-8adc-6e0e6c16edb6",
   "metadata": {},
   "outputs": [
    {
     "data": {
      "text/plain": [
       "[1,\n",
       " 3,\n",
       " 5,\n",
       " 7,\n",
       " 9,\n",
       " 11,\n",
       " 13,\n",
       " 15,\n",
       " 17,\n",
       " 19,\n",
       " 21,\n",
       " 23,\n",
       " 25,\n",
       " 27,\n",
       " 29,\n",
       " 31,\n",
       " 33,\n",
       " 35,\n",
       " 37,\n",
       " 39,\n",
       " 41,\n",
       " 43,\n",
       " 45,\n",
       " 47,\n",
       " 49,\n",
       " 51,\n",
       " 53,\n",
       " 55,\n",
       " 57,\n",
       " 59,\n",
       " 61,\n",
       " 63,\n",
       " 65,\n",
       " 67,\n",
       " 69,\n",
       " 71,\n",
       " 73,\n",
       " 75,\n",
       " 77,\n",
       " 79,\n",
       " 81,\n",
       " 83,\n",
       " 85,\n",
       " 87,\n",
       " 89,\n",
       " 91,\n",
       " 93,\n",
       " 95,\n",
       " 97,\n",
       " 99]"
      ]
     },
     "execution_count": 15,
     "metadata": {},
     "output_type": "execute_result"
    }
   ],
   "source": [
    "[i for i in range(1,101) if i%2!=0]"
   ]
  },
  {
   "cell_type": "code",
   "execution_count": null,
   "id": "d88377a5-e37f-4b5b-93b2-7618d3a0ac32",
   "metadata": {},
   "outputs": [],
   "source": []
  }
 ],
 "metadata": {
  "kernelspec": {
   "display_name": "Python 3 (ipykernel)",
   "language": "python",
   "name": "python3"
  },
  "language_info": {
   "codemirror_mode": {
    "name": "ipython",
    "version": 3
   },
   "file_extension": ".py",
   "mimetype": "text/x-python",
   "name": "python",
   "nbconvert_exporter": "python",
   "pygments_lexer": "ipython3",
   "version": "3.10.6"
  }
 },
 "nbformat": 4,
 "nbformat_minor": 5
}
